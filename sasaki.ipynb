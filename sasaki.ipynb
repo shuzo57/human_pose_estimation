{
 "cells": [
  {
   "cell_type": "code",
   "execution_count": 11,
   "metadata": {},
   "outputs": [],
   "source": [
    "import os\n",
    "import numpy as np\n",
    "import pandas as pd\n",
    "import matplotlib.pyplot as plt\n",
    "\n",
    "from GPAT.gpat.detect import detect_and_track\n",
    "from GPAT.gpat.pose_estimate_from_tracking_data import pose_estimate_from_tracking_data\n",
    "from GPAT.gpat.utils.gpat2fpat import gpat2fpat"
   ]
  },
  {
   "cell_type": "code",
   "execution_count": 12,
   "metadata": {},
   "outputs": [],
   "source": [
    "video_name = 'center_52'"
   ]
  },
  {
   "cell_type": "code",
   "execution_count": 13,
   "metadata": {},
   "outputs": [],
   "source": [
    "video_path = f\"/home/ohwada/sasaki_20240930/video/{video_name}.MP4\"\n",
    "det_model_path = \"/home/ohwada/human_pose_estimation/models/rtmdet_l_8xb32-300e_coco.py\"\n",
    "det_config_path = \"/home/ohwada/human_pose_estimation/models/rtmdet_l_8xb32-300e_coco_20220719_112030-5a0be7c4.pth\"\n",
    "pose_model_path = \"/home/ohwada/human_pose_estimation/models/rtmpose-l_8xb32-270e_coco-wholebody-384x288.py\"\n",
    "pose_config_path = \"/home/ohwada/human_pose_estimation/models/rtmpose-l_simcc-coco-wholebody_pt-aic-coco_270e-384x288-eaeb96c8_20230125.pth\"\n",
    "output_path = \"/home/ohwada/sasaki_20240930/\" \n",
    "tracking_data_path = f\"{output_path}data/{video_name}/tracking_data.csv\""
   ]
  },
  {
   "cell_type": "code",
   "execution_count": 14,
   "metadata": {},
   "outputs": [
    {
     "name": "stdout",
     "output_type": "stream",
     "text": [
      "Using device: cuda\n",
      "Loads checkpoint by local backend from path: /home/ohwada/human_pose_estimation/models/rtmdet_l_8xb32-300e_coco_20220719_112030-5a0be7c4.pth\n",
      "The model and loaded state dict do not match exactly\n",
      "\n",
      "unexpected key in source state_dict: data_preprocessor.mean, data_preprocessor.std\n",
      "\n",
      "Processing frame: 421/420\n",
      "Done\n"
     ]
    }
   ],
   "source": [
    "detect_and_track(\n",
    "    video_path = video_path,\n",
    "    model_path = det_model_path,\n",
    "    config_path = det_config_path,\n",
    "    output_path = output_path,\n",
    ")"
   ]
  },
  {
   "cell_type": "code",
   "execution_count": 15,
   "metadata": {},
   "outputs": [
    {
     "data": {
      "text/html": [
       "<div>\n",
       "<style scoped>\n",
       "    .dataframe tbody tr th:only-of-type {\n",
       "        vertical-align: middle;\n",
       "    }\n",
       "\n",
       "    .dataframe tbody tr th {\n",
       "        vertical-align: top;\n",
       "    }\n",
       "\n",
       "    .dataframe thead th {\n",
       "        text-align: right;\n",
       "    }\n",
       "</style>\n",
       "<table border=\"1\" class=\"dataframe\">\n",
       "  <thead>\n",
       "    <tr style=\"text-align: right;\">\n",
       "      <th></th>\n",
       "      <th>frame</th>\n",
       "      <th>track_id</th>\n",
       "      <th>x1</th>\n",
       "      <th>y1</th>\n",
       "      <th>x2</th>\n",
       "      <th>y2</th>\n",
       "    </tr>\n",
       "  </thead>\n",
       "  <tbody>\n",
       "    <tr>\n",
       "      <th>0</th>\n",
       "      <td>1</td>\n",
       "      <td>1</td>\n",
       "      <td>703</td>\n",
       "      <td>258</td>\n",
       "      <td>870</td>\n",
       "      <td>892</td>\n",
       "    </tr>\n",
       "    <tr>\n",
       "      <th>1</th>\n",
       "      <td>1</td>\n",
       "      <td>2</td>\n",
       "      <td>497</td>\n",
       "      <td>328</td>\n",
       "      <td>720</td>\n",
       "      <td>725</td>\n",
       "    </tr>\n",
       "    <tr>\n",
       "      <th>2</th>\n",
       "      <td>1</td>\n",
       "      <td>3</td>\n",
       "      <td>1255</td>\n",
       "      <td>436</td>\n",
       "      <td>1471</td>\n",
       "      <td>671</td>\n",
       "    </tr>\n",
       "    <tr>\n",
       "      <th>3</th>\n",
       "      <td>2</td>\n",
       "      <td>1</td>\n",
       "      <td>703</td>\n",
       "      <td>258</td>\n",
       "      <td>869</td>\n",
       "      <td>891</td>\n",
       "    </tr>\n",
       "    <tr>\n",
       "      <th>4</th>\n",
       "      <td>2</td>\n",
       "      <td>2</td>\n",
       "      <td>496</td>\n",
       "      <td>328</td>\n",
       "      <td>721</td>\n",
       "      <td>725</td>\n",
       "    </tr>\n",
       "  </tbody>\n",
       "</table>\n",
       "</div>"
      ],
      "text/plain": [
       "   frame  track_id    x1   y1    x2   y2\n",
       "0      1         1   703  258   870  892\n",
       "1      1         2   497  328   720  725\n",
       "2      1         3  1255  436  1471  671\n",
       "3      2         1   703  258   869  891\n",
       "4      2         2   496  328   721  725"
      ]
     },
     "execution_count": 15,
     "metadata": {},
     "output_type": "execute_result"
    }
   ],
   "source": [
    "df = pd.read_csv(tracking_data_path)\n",
    "df.head()"
   ]
  },
  {
   "cell_type": "code",
   "execution_count": 16,
   "metadata": {},
   "outputs": [
    {
     "name": "stdout",
     "output_type": "stream",
     "text": [
      "1\n"
     ]
    }
   ],
   "source": [
    "unique_ids = df['track_id'].unique()\n",
    "max_distance = 0\n",
    "\n",
    "for id in unique_ids:\n",
    "    df_id = df[df['track_id'] == id]\n",
    "    x1_min = df_id['x1'].min()\n",
    "    y1_min = df_id['y1'].min()\n",
    "    x1_max = df_id['x1'].max()\n",
    "    y1_max = df_id['y1'].max()\n",
    "    x2_min = df_id['x2'].min()\n",
    "    y2_min = df_id['y2'].min()\n",
    "    x2_max = df_id['x2'].max()\n",
    "    y2_max = df_id['y2'].max()\n",
    "    distance = np.sqrt((x1_max - x1_min)**2 + (y1_max - y1_min)**2 + (x2_max - x2_min)**2 + (y2_max - y2_min)**2)\n",
    "    if distance > max_distance:\n",
    "        max_distance = distance\n",
    "        selected_id = id\n",
    "        \n",
    "track_id = selected_id\n",
    "print(track_id)"
   ]
  },
  {
   "cell_type": "code",
   "execution_count": 17,
   "metadata": {},
   "outputs": [
    {
     "name": "stdout",
     "output_type": "stream",
     "text": [
      "Using device: cuda\n",
      "Loads checkpoint by local backend from path: /home/ohwada/human_pose_estimation/models/rtmpose-l_simcc-coco-wholebody_pt-aic-coco_270e-384x288-eaeb96c8_20230125.pth\n",
      "Processing frame: 421/420\n",
      "Done\n"
     ]
    }
   ],
   "source": [
    "pose_estimate_from_tracking_data(\n",
    "    video_path = video_path,\n",
    "    tracking_data_path = tracking_data_path,\n",
    "    model_path = pose_model_path,\n",
    "    config_path = pose_config_path,\n",
    "    output_path = output_path,\n",
    "    track_id = track_id,\n",
    ")"
   ]
  },
  {
   "cell_type": "code",
   "execution_count": 18,
   "metadata": {},
   "outputs": [],
   "source": [
    "gpat2fpat(os.path.join(output_path, \"data\", video_name))"
   ]
  }
 ],
 "metadata": {
  "kernelspec": {
   "display_name": ".venv",
   "language": "python",
   "name": "python3"
  },
  "language_info": {
   "codemirror_mode": {
    "name": "ipython",
    "version": 3
   },
   "file_extension": ".py",
   "mimetype": "text/x-python",
   "name": "python",
   "nbconvert_exporter": "python",
   "pygments_lexer": "ipython3",
   "version": "3.8.18"
  }
 },
 "nbformat": 4,
 "nbformat_minor": 2
}
